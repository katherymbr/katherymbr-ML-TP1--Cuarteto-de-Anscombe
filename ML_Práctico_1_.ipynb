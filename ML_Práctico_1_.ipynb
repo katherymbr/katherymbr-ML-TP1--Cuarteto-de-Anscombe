{
  "nbformat": 4,
  "nbformat_minor": 0,
  "metadata": {
    "colab": {
      "name": "ML_Práctico_1_.ipynb",
      "provenance": [],
      "collapsed_sections": [],
      "authorship_tag": "ABX9TyNzOWNCUDTFDUL8ZoiPbrWC",
      "include_colab_link": true
    },
    "kernelspec": {
      "name": "python3",
      "display_name": "Python 3"
    },
    "language_info": {
      "name": "python"
    }
  },
  "cells": [
    {
      "cell_type": "markdown",
      "metadata": {
        "id": "view-in-github",
        "colab_type": "text"
      },
      "source": [
        "<a href=\"https://colab.research.google.com/github/katherymbr/katherymbr-ML-TP1--Cuarteto-de-Anscombe/blob/main/ML_Pr%C3%A1ctico_1_.ipynb\" target=\"_parent\"><img src=\"https://colab.research.google.com/assets/colab-badge.svg\" alt=\"Open In Colab\"/></a>"
      ]
    },
    {
      "cell_type": "markdown",
      "metadata": {
        "id": "CvN1vvFAXoF-"
      },
      "source": [
        "![uns_top_left.png](data:image/png;base64,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)"
      ]
    },
    {
      "cell_type": "markdown",
      "metadata": {
        "id": "Z-UMuA_ZLy_e"
      },
      "source": [
        "\n",
        "\n",
        "#PRÁCTICO NRO.1. APRENDIZAJE DE MÁQUINAS (ML)\n",
        "\n",
        "\n",
        "##**Cuarteto de Anscombe**\n",
        "\n",
        "\n",
        "*NOMBRE: Katherym Bambague Ruíz*  \n",
        "\n",
        "\n",
        "```\n",
        "\n",
        "```\n",
        "\n",
        "\n",
        "\n",
        "**OBJETIVO**: Supongamos que tenemos cuatro nuevos datos ([16,8]; [8,6]; [16,10] y [16,6]) y sabemos que cada uno corresponde a un único dataset. Sin embargo, los parámetros estadísticos de los cuatro datasets son idénticos.\n",
        "¿Cómo determinar entonces a qué dataset corresponde cada punto?"
      ]
    },
    {
      "cell_type": "code",
      "metadata": {
        "id": "Job5Dx9DjV8w"
      },
      "source": [
        "#IMPORTO LAS LIBRERIAS\n",
        "from re import A\n",
        "import pandas as pd\n",
        "import matplotlib.pyplot as plt\n",
        "import numpy as np\n",
        "from pandas.io.pytables import DataCol\n",
        "from sklearn.linear_model import LinearRegression\n"
      ],
      "execution_count": 16,
      "outputs": []
    },
    {
      "cell_type": "code",
      "metadata": {
        "id": "jGucvAvcELs1",
        "colab": {
          "base_uri": "https://localhost:8080/",
          "height": 1000
        },
        "outputId": "d377c9e4-4c23-440e-b321-110a836dfebd"
      },
      "source": [
        "# IMPRIMO Y MUESTRO EL DATASET COMPLETO (A,B,C,D)\n",
        "\n",
        "df= pd.read_csv('/content/dataset_anscombe5.csv',  sep=';')  #DataFrame\n",
        "df"
      ],
      "execution_count": 17,
      "outputs": [
        {
          "output_type": "execute_result",
          "data": {
            "text/html": [
              "<div>\n",
              "<style scoped>\n",
              "    .dataframe tbody tr th:only-of-type {\n",
              "        vertical-align: middle;\n",
              "    }\n",
              "\n",
              "    .dataframe tbody tr th {\n",
              "        vertical-align: top;\n",
              "    }\n",
              "\n",
              "    .dataframe thead th {\n",
              "        text-align: right;\n",
              "    }\n",
              "</style>\n",
              "<table border=\"1\" class=\"dataframe\">\n",
              "  <thead>\n",
              "    <tr style=\"text-align: right;\">\n",
              "      <th></th>\n",
              "      <th>dataset</th>\n",
              "      <th>x1</th>\n",
              "      <th>y1</th>\n",
              "    </tr>\n",
              "  </thead>\n",
              "  <tbody>\n",
              "    <tr>\n",
              "      <th>0</th>\n",
              "      <td>A</td>\n",
              "      <td>10.0</td>\n",
              "      <td>8.04</td>\n",
              "    </tr>\n",
              "    <tr>\n",
              "      <th>1</th>\n",
              "      <td>A</td>\n",
              "      <td>8.0</td>\n",
              "      <td>6.95</td>\n",
              "    </tr>\n",
              "    <tr>\n",
              "      <th>2</th>\n",
              "      <td>A</td>\n",
              "      <td>13.0</td>\n",
              "      <td>7.58</td>\n",
              "    </tr>\n",
              "    <tr>\n",
              "      <th>3</th>\n",
              "      <td>A</td>\n",
              "      <td>9.0</td>\n",
              "      <td>8.81</td>\n",
              "    </tr>\n",
              "    <tr>\n",
              "      <th>4</th>\n",
              "      <td>A</td>\n",
              "      <td>11.0</td>\n",
              "      <td>8.33</td>\n",
              "    </tr>\n",
              "    <tr>\n",
              "      <th>5</th>\n",
              "      <td>A</td>\n",
              "      <td>14.0</td>\n",
              "      <td>9.96</td>\n",
              "    </tr>\n",
              "    <tr>\n",
              "      <th>6</th>\n",
              "      <td>A</td>\n",
              "      <td>6.0</td>\n",
              "      <td>7.24</td>\n",
              "    </tr>\n",
              "    <tr>\n",
              "      <th>7</th>\n",
              "      <td>A</td>\n",
              "      <td>4.0</td>\n",
              "      <td>4.26</td>\n",
              "    </tr>\n",
              "    <tr>\n",
              "      <th>8</th>\n",
              "      <td>A</td>\n",
              "      <td>12.0</td>\n",
              "      <td>10.84</td>\n",
              "    </tr>\n",
              "    <tr>\n",
              "      <th>9</th>\n",
              "      <td>A</td>\n",
              "      <td>7.0</td>\n",
              "      <td>4.82</td>\n",
              "    </tr>\n",
              "    <tr>\n",
              "      <th>10</th>\n",
              "      <td>A</td>\n",
              "      <td>5.0</td>\n",
              "      <td>5.68</td>\n",
              "    </tr>\n",
              "    <tr>\n",
              "      <th>11</th>\n",
              "      <td>B</td>\n",
              "      <td>10.0</td>\n",
              "      <td>9.14</td>\n",
              "    </tr>\n",
              "    <tr>\n",
              "      <th>12</th>\n",
              "      <td>B</td>\n",
              "      <td>8.0</td>\n",
              "      <td>8.14</td>\n",
              "    </tr>\n",
              "    <tr>\n",
              "      <th>13</th>\n",
              "      <td>B</td>\n",
              "      <td>13.0</td>\n",
              "      <td>8.74</td>\n",
              "    </tr>\n",
              "    <tr>\n",
              "      <th>14</th>\n",
              "      <td>B</td>\n",
              "      <td>9.0</td>\n",
              "      <td>8.77</td>\n",
              "    </tr>\n",
              "    <tr>\n",
              "      <th>15</th>\n",
              "      <td>B</td>\n",
              "      <td>11.0</td>\n",
              "      <td>9.26</td>\n",
              "    </tr>\n",
              "    <tr>\n",
              "      <th>16</th>\n",
              "      <td>B</td>\n",
              "      <td>14.0</td>\n",
              "      <td>8.10</td>\n",
              "    </tr>\n",
              "    <tr>\n",
              "      <th>17</th>\n",
              "      <td>B</td>\n",
              "      <td>6.0</td>\n",
              "      <td>6.13</td>\n",
              "    </tr>\n",
              "    <tr>\n",
              "      <th>18</th>\n",
              "      <td>B</td>\n",
              "      <td>4.0</td>\n",
              "      <td>3.10</td>\n",
              "    </tr>\n",
              "    <tr>\n",
              "      <th>19</th>\n",
              "      <td>B</td>\n",
              "      <td>12.0</td>\n",
              "      <td>9.13</td>\n",
              "    </tr>\n",
              "    <tr>\n",
              "      <th>20</th>\n",
              "      <td>B</td>\n",
              "      <td>7.0</td>\n",
              "      <td>7.26</td>\n",
              "    </tr>\n",
              "    <tr>\n",
              "      <th>21</th>\n",
              "      <td>B</td>\n",
              "      <td>5.0</td>\n",
              "      <td>4.74</td>\n",
              "    </tr>\n",
              "    <tr>\n",
              "      <th>22</th>\n",
              "      <td>C</td>\n",
              "      <td>10.0</td>\n",
              "      <td>7.46</td>\n",
              "    </tr>\n",
              "    <tr>\n",
              "      <th>23</th>\n",
              "      <td>C</td>\n",
              "      <td>8.0</td>\n",
              "      <td>6.77</td>\n",
              "    </tr>\n",
              "    <tr>\n",
              "      <th>24</th>\n",
              "      <td>C</td>\n",
              "      <td>13.0</td>\n",
              "      <td>12.74</td>\n",
              "    </tr>\n",
              "    <tr>\n",
              "      <th>25</th>\n",
              "      <td>C</td>\n",
              "      <td>9.0</td>\n",
              "      <td>7.11</td>\n",
              "    </tr>\n",
              "    <tr>\n",
              "      <th>26</th>\n",
              "      <td>C</td>\n",
              "      <td>11.0</td>\n",
              "      <td>7.81</td>\n",
              "    </tr>\n",
              "    <tr>\n",
              "      <th>27</th>\n",
              "      <td>C</td>\n",
              "      <td>14.0</td>\n",
              "      <td>8.84</td>\n",
              "    </tr>\n",
              "    <tr>\n",
              "      <th>28</th>\n",
              "      <td>C</td>\n",
              "      <td>6.0</td>\n",
              "      <td>6.08</td>\n",
              "    </tr>\n",
              "    <tr>\n",
              "      <th>29</th>\n",
              "      <td>C</td>\n",
              "      <td>4.0</td>\n",
              "      <td>5.39</td>\n",
              "    </tr>\n",
              "    <tr>\n",
              "      <th>30</th>\n",
              "      <td>C</td>\n",
              "      <td>12.0</td>\n",
              "      <td>8.15</td>\n",
              "    </tr>\n",
              "    <tr>\n",
              "      <th>31</th>\n",
              "      <td>C</td>\n",
              "      <td>7.0</td>\n",
              "      <td>6.42</td>\n",
              "    </tr>\n",
              "    <tr>\n",
              "      <th>32</th>\n",
              "      <td>C</td>\n",
              "      <td>5.0</td>\n",
              "      <td>5.73</td>\n",
              "    </tr>\n",
              "    <tr>\n",
              "      <th>33</th>\n",
              "      <td>D</td>\n",
              "      <td>8.0</td>\n",
              "      <td>6.58</td>\n",
              "    </tr>\n",
              "    <tr>\n",
              "      <th>34</th>\n",
              "      <td>D</td>\n",
              "      <td>8.0</td>\n",
              "      <td>5.76</td>\n",
              "    </tr>\n",
              "    <tr>\n",
              "      <th>35</th>\n",
              "      <td>D</td>\n",
              "      <td>8.0</td>\n",
              "      <td>7.71</td>\n",
              "    </tr>\n",
              "    <tr>\n",
              "      <th>36</th>\n",
              "      <td>D</td>\n",
              "      <td>8.0</td>\n",
              "      <td>8.84</td>\n",
              "    </tr>\n",
              "    <tr>\n",
              "      <th>37</th>\n",
              "      <td>D</td>\n",
              "      <td>8.0</td>\n",
              "      <td>8.47</td>\n",
              "    </tr>\n",
              "    <tr>\n",
              "      <th>38</th>\n",
              "      <td>D</td>\n",
              "      <td>8.0</td>\n",
              "      <td>7.04</td>\n",
              "    </tr>\n",
              "    <tr>\n",
              "      <th>39</th>\n",
              "      <td>D</td>\n",
              "      <td>8.0</td>\n",
              "      <td>5.25</td>\n",
              "    </tr>\n",
              "    <tr>\n",
              "      <th>40</th>\n",
              "      <td>D</td>\n",
              "      <td>19.0</td>\n",
              "      <td>12.50</td>\n",
              "    </tr>\n",
              "    <tr>\n",
              "      <th>41</th>\n",
              "      <td>D</td>\n",
              "      <td>8.0</td>\n",
              "      <td>5.56</td>\n",
              "    </tr>\n",
              "    <tr>\n",
              "      <th>42</th>\n",
              "      <td>D</td>\n",
              "      <td>8.0</td>\n",
              "      <td>7.91</td>\n",
              "    </tr>\n",
              "    <tr>\n",
              "      <th>43</th>\n",
              "      <td>D</td>\n",
              "      <td>8.0</td>\n",
              "      <td>6.89</td>\n",
              "    </tr>\n",
              "  </tbody>\n",
              "</table>\n",
              "</div>"
            ],
            "text/plain": [
              "   dataset    x1     y1\n",
              "0        A  10.0   8.04\n",
              "1        A   8.0   6.95\n",
              "2        A  13.0   7.58\n",
              "3        A   9.0   8.81\n",
              "4        A  11.0   8.33\n",
              "5        A  14.0   9.96\n",
              "6        A   6.0   7.24\n",
              "7        A   4.0   4.26\n",
              "8        A  12.0  10.84\n",
              "9        A   7.0   4.82\n",
              "10       A   5.0   5.68\n",
              "11       B  10.0   9.14\n",
              "12       B   8.0   8.14\n",
              "13       B  13.0   8.74\n",
              "14       B   9.0   8.77\n",
              "15       B  11.0   9.26\n",
              "16       B  14.0   8.10\n",
              "17       B   6.0   6.13\n",
              "18       B   4.0   3.10\n",
              "19       B  12.0   9.13\n",
              "20       B   7.0   7.26\n",
              "21       B   5.0   4.74\n",
              "22       C  10.0   7.46\n",
              "23       C   8.0   6.77\n",
              "24       C  13.0  12.74\n",
              "25       C   9.0   7.11\n",
              "26       C  11.0   7.81\n",
              "27       C  14.0   8.84\n",
              "28       C   6.0   6.08\n",
              "29       C   4.0   5.39\n",
              "30       C  12.0   8.15\n",
              "31       C   7.0   6.42\n",
              "32       C   5.0   5.73\n",
              "33       D   8.0   6.58\n",
              "34       D   8.0   5.76\n",
              "35       D   8.0   7.71\n",
              "36       D   8.0   8.84\n",
              "37       D   8.0   8.47\n",
              "38       D   8.0   7.04\n",
              "39       D   8.0   5.25\n",
              "40       D  19.0  12.50\n",
              "41       D   8.0   5.56\n",
              "42       D   8.0   7.91\n",
              "43       D   8.0   6.89"
            ]
          },
          "metadata": {},
          "execution_count": 17
        }
      ]
    },
    {
      "cell_type": "code",
      "metadata": {
        "id": "Hw_hci4FN36O",
        "colab": {
          "base_uri": "https://localhost:8080/",
          "height": 203
        },
        "outputId": "e50aa18a-34d4-4ffb-9877-70ab69d54e82"
      },
      "source": [
        "#Imprimo los primeros 5 campos del archivodataset\n",
        "df.head()"
      ],
      "execution_count": 18,
      "outputs": [
        {
          "output_type": "execute_result",
          "data": {
            "text/html": [
              "<div>\n",
              "<style scoped>\n",
              "    .dataframe tbody tr th:only-of-type {\n",
              "        vertical-align: middle;\n",
              "    }\n",
              "\n",
              "    .dataframe tbody tr th {\n",
              "        vertical-align: top;\n",
              "    }\n",
              "\n",
              "    .dataframe thead th {\n",
              "        text-align: right;\n",
              "    }\n",
              "</style>\n",
              "<table border=\"1\" class=\"dataframe\">\n",
              "  <thead>\n",
              "    <tr style=\"text-align: right;\">\n",
              "      <th></th>\n",
              "      <th>dataset</th>\n",
              "      <th>x1</th>\n",
              "      <th>y1</th>\n",
              "    </tr>\n",
              "  </thead>\n",
              "  <tbody>\n",
              "    <tr>\n",
              "      <th>0</th>\n",
              "      <td>A</td>\n",
              "      <td>10.0</td>\n",
              "      <td>8.04</td>\n",
              "    </tr>\n",
              "    <tr>\n",
              "      <th>1</th>\n",
              "      <td>A</td>\n",
              "      <td>8.0</td>\n",
              "      <td>6.95</td>\n",
              "    </tr>\n",
              "    <tr>\n",
              "      <th>2</th>\n",
              "      <td>A</td>\n",
              "      <td>13.0</td>\n",
              "      <td>7.58</td>\n",
              "    </tr>\n",
              "    <tr>\n",
              "      <th>3</th>\n",
              "      <td>A</td>\n",
              "      <td>9.0</td>\n",
              "      <td>8.81</td>\n",
              "    </tr>\n",
              "    <tr>\n",
              "      <th>4</th>\n",
              "      <td>A</td>\n",
              "      <td>11.0</td>\n",
              "      <td>8.33</td>\n",
              "    </tr>\n",
              "  </tbody>\n",
              "</table>\n",
              "</div>"
            ],
            "text/plain": [
              "  dataset    x1    y1\n",
              "0       A  10.0  8.04\n",
              "1       A   8.0  6.95\n",
              "2       A  13.0  7.58\n",
              "3       A   9.0  8.81\n",
              "4       A  11.0  8.33"
            ]
          },
          "metadata": {},
          "execution_count": 18
        }
      ]
    },
    {
      "cell_type": "code",
      "metadata": {
        "colab": {
          "base_uri": "https://localhost:8080/",
          "height": 203
        },
        "id": "Yfjn3FPmX-PX",
        "outputId": "b8f8a41b-404b-46dd-d9d1-8d875cef53c0"
      },
      "source": [
        "#imprimo los ulltimos datos deldataset\n",
        "df.tail()"
      ],
      "execution_count": 19,
      "outputs": [
        {
          "output_type": "execute_result",
          "data": {
            "text/html": [
              "<div>\n",
              "<style scoped>\n",
              "    .dataframe tbody tr th:only-of-type {\n",
              "        vertical-align: middle;\n",
              "    }\n",
              "\n",
              "    .dataframe tbody tr th {\n",
              "        vertical-align: top;\n",
              "    }\n",
              "\n",
              "    .dataframe thead th {\n",
              "        text-align: right;\n",
              "    }\n",
              "</style>\n",
              "<table border=\"1\" class=\"dataframe\">\n",
              "  <thead>\n",
              "    <tr style=\"text-align: right;\">\n",
              "      <th></th>\n",
              "      <th>dataset</th>\n",
              "      <th>x1</th>\n",
              "      <th>y1</th>\n",
              "    </tr>\n",
              "  </thead>\n",
              "  <tbody>\n",
              "    <tr>\n",
              "      <th>39</th>\n",
              "      <td>D</td>\n",
              "      <td>8.0</td>\n",
              "      <td>5.25</td>\n",
              "    </tr>\n",
              "    <tr>\n",
              "      <th>40</th>\n",
              "      <td>D</td>\n",
              "      <td>19.0</td>\n",
              "      <td>12.50</td>\n",
              "    </tr>\n",
              "    <tr>\n",
              "      <th>41</th>\n",
              "      <td>D</td>\n",
              "      <td>8.0</td>\n",
              "      <td>5.56</td>\n",
              "    </tr>\n",
              "    <tr>\n",
              "      <th>42</th>\n",
              "      <td>D</td>\n",
              "      <td>8.0</td>\n",
              "      <td>7.91</td>\n",
              "    </tr>\n",
              "    <tr>\n",
              "      <th>43</th>\n",
              "      <td>D</td>\n",
              "      <td>8.0</td>\n",
              "      <td>6.89</td>\n",
              "    </tr>\n",
              "  </tbody>\n",
              "</table>\n",
              "</div>"
            ],
            "text/plain": [
              "   dataset    x1     y1\n",
              "39       D   8.0   5.25\n",
              "40       D  19.0  12.50\n",
              "41       D   8.0   5.56\n",
              "42       D   8.0   7.91\n",
              "43       D   8.0   6.89"
            ]
          },
          "metadata": {},
          "execution_count": 19
        }
      ]
    },
    {
      "cell_type": "markdown",
      "metadata": {
        "id": "VmR0br9cYOKu"
      },
      "source": [
        "OBTENGO LOS 4 DATASET POR SEPARADO"
      ]
    },
    {
      "cell_type": "markdown",
      "metadata": {
        "id": "jsIoh8jCfKvP"
      },
      "source": [
        "#1. DATASET_A"
      ]
    },
    {
      "cell_type": "code",
      "metadata": {
        "colab": {
          "base_uri": "https://localhost:8080/",
          "height": 983
        },
        "id": "n95xGfltcotB",
        "outputId": "aed3dfab-eaf9-4dfb-a41e-a7dbc086fb9f"
      },
      "source": [
        "# 1. DATASET A \n",
        "\n",
        "data_A=df[df['dataset']==\"A\"] #solo muestro el dataset  con registro A\n",
        "\n",
        "# grafico  DATASET A\n",
        "data_A['x1']\n",
        "data_A['y1']\n",
        "display(data_A)\n",
        "\n",
        "# Regresión lineal del DATASET_A\n",
        "x=np.array((data_A['x1'])).reshape(-1,1)\n",
        "y=np.array((data_A['y1']))\n",
        "reg = LinearRegression().fit(x,y)\n",
        "reg.score(x, y)\n",
        "display('Valor de R2=', reg.score(x,y))\n",
        "display('Valor de pendiente, M', reg.coef_)\n",
        "x_data=np.arange(0,20,0.1).reshape(-1,1)\n",
        "y_data_A=reg.predict(x_data)\n",
        "\n",
        "# grafica de regresión lineal\n",
        "plt.plot(x_data, y_data_A, c='black')  # grafica la linea de tendencia de la regresión lineal\n",
        "plt.scatter(data_A['x1'],data_A['y1'], c='red')  # grafica los puntos del dataset_A\n",
        "\n",
        "#grafico los puntos a evaluar\n",
        "plt.scatter(16,8, c='yellow',  marker='^')\n",
        "plt.scatter(8,6, c='purple',  marker='^' )\n",
        "plt.scatter(16,10, c='yellow',  marker='^' )\n",
        "plt.scatter(16,6, c='yellow',  marker='^')\n",
        "\n",
        "# Valores estadisticos de dataset A\n",
        "\n",
        "estadistica_A= data_A. describe()\n",
        "estadistica_A\n",
        "\n"
      ],
      "execution_count": 20,
      "outputs": [
        {
          "output_type": "display_data",
          "data": {
            "text/html": [
              "<div>\n",
              "<style scoped>\n",
              "    .dataframe tbody tr th:only-of-type {\n",
              "        vertical-align: middle;\n",
              "    }\n",
              "\n",
              "    .dataframe tbody tr th {\n",
              "        vertical-align: top;\n",
              "    }\n",
              "\n",
              "    .dataframe thead th {\n",
              "        text-align: right;\n",
              "    }\n",
              "</style>\n",
              "<table border=\"1\" class=\"dataframe\">\n",
              "  <thead>\n",
              "    <tr style=\"text-align: right;\">\n",
              "      <th></th>\n",
              "      <th>dataset</th>\n",
              "      <th>x1</th>\n",
              "      <th>y1</th>\n",
              "    </tr>\n",
              "  </thead>\n",
              "  <tbody>\n",
              "    <tr>\n",
              "      <th>0</th>\n",
              "      <td>A</td>\n",
              "      <td>10.0</td>\n",
              "      <td>8.04</td>\n",
              "    </tr>\n",
              "    <tr>\n",
              "      <th>1</th>\n",
              "      <td>A</td>\n",
              "      <td>8.0</td>\n",
              "      <td>6.95</td>\n",
              "    </tr>\n",
              "    <tr>\n",
              "      <th>2</th>\n",
              "      <td>A</td>\n",
              "      <td>13.0</td>\n",
              "      <td>7.58</td>\n",
              "    </tr>\n",
              "    <tr>\n",
              "      <th>3</th>\n",
              "      <td>A</td>\n",
              "      <td>9.0</td>\n",
              "      <td>8.81</td>\n",
              "    </tr>\n",
              "    <tr>\n",
              "      <th>4</th>\n",
              "      <td>A</td>\n",
              "      <td>11.0</td>\n",
              "      <td>8.33</td>\n",
              "    </tr>\n",
              "    <tr>\n",
              "      <th>5</th>\n",
              "      <td>A</td>\n",
              "      <td>14.0</td>\n",
              "      <td>9.96</td>\n",
              "    </tr>\n",
              "    <tr>\n",
              "      <th>6</th>\n",
              "      <td>A</td>\n",
              "      <td>6.0</td>\n",
              "      <td>7.24</td>\n",
              "    </tr>\n",
              "    <tr>\n",
              "      <th>7</th>\n",
              "      <td>A</td>\n",
              "      <td>4.0</td>\n",
              "      <td>4.26</td>\n",
              "    </tr>\n",
              "    <tr>\n",
              "      <th>8</th>\n",
              "      <td>A</td>\n",
              "      <td>12.0</td>\n",
              "      <td>10.84</td>\n",
              "    </tr>\n",
              "    <tr>\n",
              "      <th>9</th>\n",
              "      <td>A</td>\n",
              "      <td>7.0</td>\n",
              "      <td>4.82</td>\n",
              "    </tr>\n",
              "    <tr>\n",
              "      <th>10</th>\n",
              "      <td>A</td>\n",
              "      <td>5.0</td>\n",
              "      <td>5.68</td>\n",
              "    </tr>\n",
              "  </tbody>\n",
              "</table>\n",
              "</div>"
            ],
            "text/plain": [
              "   dataset    x1     y1\n",
              "0        A  10.0   8.04\n",
              "1        A   8.0   6.95\n",
              "2        A  13.0   7.58\n",
              "3        A   9.0   8.81\n",
              "4        A  11.0   8.33\n",
              "5        A  14.0   9.96\n",
              "6        A   6.0   7.24\n",
              "7        A   4.0   4.26\n",
              "8        A  12.0  10.84\n",
              "9        A   7.0   4.82\n",
              "10       A   5.0   5.68"
            ]
          },
          "metadata": {}
        },
        {
          "output_type": "display_data",
          "data": {
            "application/vnd.google.colaboratory.intrinsic+json": {
              "type": "string"
            },
            "text/plain": [
              "'Valor de R2='"
            ]
          },
          "metadata": {}
        },
        {
          "output_type": "display_data",
          "data": {
            "text/plain": [
              "0.6665424595087748"
            ]
          },
          "metadata": {}
        },
        {
          "output_type": "display_data",
          "data": {
            "application/vnd.google.colaboratory.intrinsic+json": {
              "type": "string"
            },
            "text/plain": [
              "'Valor de pendiente, M'"
            ]
          },
          "metadata": {}
        },
        {
          "output_type": "display_data",
          "data": {
            "text/plain": [
              "array([0.50009091])"
            ]
          },
          "metadata": {}
        },
        {
          "output_type": "execute_result",
          "data": {
            "text/html": [
              "<div>\n",
              "<style scoped>\n",
              "    .dataframe tbody tr th:only-of-type {\n",
              "        vertical-align: middle;\n",
              "    }\n",
              "\n",
              "    .dataframe tbody tr th {\n",
              "        vertical-align: top;\n",
              "    }\n",
              "\n",
              "    .dataframe thead th {\n",
              "        text-align: right;\n",
              "    }\n",
              "</style>\n",
              "<table border=\"1\" class=\"dataframe\">\n",
              "  <thead>\n",
              "    <tr style=\"text-align: right;\">\n",
              "      <th></th>\n",
              "      <th>x1</th>\n",
              "      <th>y1</th>\n",
              "    </tr>\n",
              "  </thead>\n",
              "  <tbody>\n",
              "    <tr>\n",
              "      <th>count</th>\n",
              "      <td>11.000000</td>\n",
              "      <td>11.000000</td>\n",
              "    </tr>\n",
              "    <tr>\n",
              "      <th>mean</th>\n",
              "      <td>9.000000</td>\n",
              "      <td>7.500909</td>\n",
              "    </tr>\n",
              "    <tr>\n",
              "      <th>std</th>\n",
              "      <td>3.316625</td>\n",
              "      <td>2.031568</td>\n",
              "    </tr>\n",
              "    <tr>\n",
              "      <th>min</th>\n",
              "      <td>4.000000</td>\n",
              "      <td>4.260000</td>\n",
              "    </tr>\n",
              "    <tr>\n",
              "      <th>25%</th>\n",
              "      <td>6.500000</td>\n",
              "      <td>6.315000</td>\n",
              "    </tr>\n",
              "    <tr>\n",
              "      <th>50%</th>\n",
              "      <td>9.000000</td>\n",
              "      <td>7.580000</td>\n",
              "    </tr>\n",
              "    <tr>\n",
              "      <th>75%</th>\n",
              "      <td>11.500000</td>\n",
              "      <td>8.570000</td>\n",
              "    </tr>\n",
              "    <tr>\n",
              "      <th>max</th>\n",
              "      <td>14.000000</td>\n",
              "      <td>10.840000</td>\n",
              "    </tr>\n",
              "  </tbody>\n",
              "</table>\n",
              "</div>"
            ],
            "text/plain": [
              "              x1         y1\n",
              "count  11.000000  11.000000\n",
              "mean    9.000000   7.500909\n",
              "std     3.316625   2.031568\n",
              "min     4.000000   4.260000\n",
              "25%     6.500000   6.315000\n",
              "50%     9.000000   7.580000\n",
              "75%    11.500000   8.570000\n",
              "max    14.000000  10.840000"
            ]
          },
          "metadata": {},
          "execution_count": 20
        },
        {
          "output_type": "display_data",
          "data": {
            "image/png": "[encoded data removed]",
            "text/plain": [
              "<Figure size 432x288 with 1 Axes>"
            ]
          },
          "metadata": {
            "needs_background": "light"
          }
        }
      ]
    },
    {
      "cell_type": "markdown",
      "metadata": {
        "id": "RH_t6Rd454XR"
      },
      "source": [
        "#ANÁLISIS DATASET_A:\n",
        "Los puntos de este dataset se encuentran muy dispersos, por lo cual es dificil concluir, pero al realizar el analisis estadistico podemos observar que los puntos tienden difusamente a una linea recta. Se le denomina difusamnete, ya que el estadistico R2, tiene el valor de 0.66, valor ligeramente alejado del valor 1, por lo cual esta recta no se ajusta del todo a la tendencia de los puntos. Considerando esta tendencia, es problable que por lo menos 3 de los 4 puntos, pertenezcan a esta grafica: (8,6),(16,10) y (16,8), pero esta duda la podemos resolver por la regresión lineal y despues de analizar los tres dataset restantes. Con el análisis total de los datasets se concluye que el punto (16,6), es el que mas se acopla a la tendencia de la grafica, Los puntos restantes se descartan ya que se clasificaron adecaudamente el los datasets restantes"
      ]
    },
    {
      "cell_type": "markdown",
      "metadata": {
        "id": "yCx71hPIfU4v"
      },
      "source": [
        "#2. DATASET_B"
      ]
    },
    {
      "cell_type": "code",
      "metadata": {
        "colab": {
          "base_uri": "https://localhost:8080/",
          "height": 983
        },
        "id": "n-NxERHhfUH6",
        "outputId": "ff545185-3cfe-46b8-e8cf-9ee9fc850542"
      },
      "source": [
        "#  DATASET B \n",
        "\n",
        "data_B=df[df['dataset']==\"B\"] #solo muestro el dataset  con registro B\n",
        "\n",
        "# grafico  DATASET B\n",
        "data_B['x1']\n",
        "data_B['y1']\n",
        "display(data_B)\n",
        "plt.scatter(data_B['x1'],data_B['y1'], c='red')\n",
        "\n",
        "# Regresión lineal del DATASET_B\n",
        "x=np.array((data_B['x1'])).reshape(-1,1)\n",
        "y=np.array((data_B['y1']))\n",
        "reg = LinearRegression().fit(x,y)\n",
        "reg.score(x, y)\n",
        "display('Valor de R2=', reg.score(x,y))\n",
        "display('Valor de pendiente, M', reg.coef_)\n",
        "x_data=np.arange(0,20,0.1).reshape(-1,1)\n",
        "y_data_B=reg.predict(x_data)\n",
        "\n",
        "# grafica de regresión lineal\n",
        "plt.plot(x_data, y_data_B, c='black')  # grafica la linea de tendencia de la regresión lineal\n",
        "plt.scatter(data_B['x1'],data_B['y1'], c='red')  # grafica los puntos del dataset_A\n",
        "\n",
        "#grafico los puntos a evaluar\n",
        "plt.scatter(16,8, c='yellow',  marker='^')\n",
        "plt.scatter(8,6, c='yellow',  marker='^' )\n",
        "plt.scatter(16,10, c='yellow',  marker='^' )\n",
        "plt.scatter(16,6, c='purple',  marker='^')\n",
        "\n",
        "#obtengo los valores estadisticos de dataset B\n",
        "estadistica_B= data_B. describe()\n",
        "display(estadistica_B)\n",
        "\n",
        "\n",
        "\n"
      ],
      "execution_count": 21,
      "outputs": [
        {
          "output_type": "display_data",
          "data": {
            "text/html": [
              "<div>\n",
              "<style scoped>\n",
              "    .dataframe tbody tr th:only-of-type {\n",
              "        vertical-align: middle;\n",
              "    }\n",
              "\n",
              "    .dataframe tbody tr th {\n",
              "        vertical-align: top;\n",
              "    }\n",
              "\n",
              "    .dataframe thead th {\n",
              "        text-align: right;\n",
              "    }\n",
              "</style>\n",
              "<table border=\"1\" class=\"dataframe\">\n",
              "  <thead>\n",
              "    <tr style=\"text-align: right;\">\n",
              "      <th></th>\n",
              "      <th>dataset</th>\n",
              "      <th>x1</th>\n",
              "      <th>y1</th>\n",
              "    </tr>\n",
              "  </thead>\n",
              "  <tbody>\n",
              "    <tr>\n",
              "      <th>11</th>\n",
              "      <td>B</td>\n",
              "      <td>10.0</td>\n",
              "      <td>9.14</td>\n",
              "    </tr>\n",
              "    <tr>\n",
              "      <th>12</th>\n",
              "      <td>B</td>\n",
              "      <td>8.0</td>\n",
              "      <td>8.14</td>\n",
              "    </tr>\n",
              "    <tr>\n",
              "      <th>13</th>\n",
              "      <td>B</td>\n",
              "      <td>13.0</td>\n",
              "      <td>8.74</td>\n",
              "    </tr>\n",
              "    <tr>\n",
              "      <th>14</th>\n",
              "      <td>B</td>\n",
              "      <td>9.0</td>\n",
              "      <td>8.77</td>\n",
              "    </tr>\n",
              "    <tr>\n",
              "      <th>15</th>\n",
              "      <td>B</td>\n",
              "      <td>11.0</td>\n",
              "      <td>9.26</td>\n",
              "    </tr>\n",
              "    <tr>\n",
              "      <th>16</th>\n",
              "      <td>B</td>\n",
              "      <td>14.0</td>\n",
              "      <td>8.10</td>\n",
              "    </tr>\n",
              "    <tr>\n",
              "      <th>17</th>\n",
              "      <td>B</td>\n",
              "      <td>6.0</td>\n",
              "      <td>6.13</td>\n",
              "    </tr>\n",
              "    <tr>\n",
              "      <th>18</th>\n",
              "      <td>B</td>\n",
              "      <td>4.0</td>\n",
              "      <td>3.10</td>\n",
              "    </tr>\n",
              "    <tr>\n",
              "      <th>19</th>\n",
              "      <td>B</td>\n",
              "      <td>12.0</td>\n",
              "      <td>9.13</td>\n",
              "    </tr>\n",
              "    <tr>\n",
              "      <th>20</th>\n",
              "      <td>B</td>\n",
              "      <td>7.0</td>\n",
              "      <td>7.26</td>\n",
              "    </tr>\n",
              "    <tr>\n",
              "      <th>21</th>\n",
              "      <td>B</td>\n",
              "      <td>5.0</td>\n",
              "      <td>4.74</td>\n",
              "    </tr>\n",
              "  </tbody>\n",
              "</table>\n",
              "</div>"
            ],
            "text/plain": [
              "   dataset    x1    y1\n",
              "11       B  10.0  9.14\n",
              "12       B   8.0  8.14\n",
              "13       B  13.0  8.74\n",
              "14       B   9.0  8.77\n",
              "15       B  11.0  9.26\n",
              "16       B  14.0  8.10\n",
              "17       B   6.0  6.13\n",
              "18       B   4.0  3.10\n",
              "19       B  12.0  9.13\n",
              "20       B   7.0  7.26\n",
              "21       B   5.0  4.74"
            ]
          },
          "metadata": {}
        },
        {
          "output_type": "display_data",
          "data": {
            "application/vnd.google.colaboratory.intrinsic+json": {
              "type": "string"
            },
            "text/plain": [
              "'Valor de R2='"
            ]
          },
          "metadata": {}
        },
        {
          "output_type": "display_data",
          "data": {
            "text/plain": [
              "0.6662420337274844"
            ]
          },
          "metadata": {}
        },
        {
          "output_type": "display_data",
          "data": {
            "application/vnd.google.colaboratory.intrinsic+json": {
              "type": "string"
            },
            "text/plain": [
              "'Valor de pendiente, M'"
            ]
          },
          "metadata": {}
        },
        {
          "output_type": "display_data",
          "data": {
            "text/plain": [
              "array([0.5])"
            ]
          },
          "metadata": {}
        },
        {
          "output_type": "display_data",
          "data": {
            "text/html": [
              "<div>\n",
              "<style scoped>\n",
              "    .dataframe tbody tr th:only-of-type {\n",
              "        vertical-align: middle;\n",
              "    }\n",
              "\n",
              "    .dataframe tbody tr th {\n",
              "        vertical-align: top;\n",
              "    }\n",
              "\n",
              "    .dataframe thead th {\n",
              "        text-align: right;\n",
              "    }\n",
              "</style>\n",
              "<table border=\"1\" class=\"dataframe\">\n",
              "  <thead>\n",
              "    <tr style=\"text-align: right;\">\n",
              "      <th></th>\n",
              "      <th>x1</th>\n",
              "      <th>y1</th>\n",
              "    </tr>\n",
              "  </thead>\n",
              "  <tbody>\n",
              "    <tr>\n",
              "      <th>count</th>\n",
              "      <td>11.000000</td>\n",
              "      <td>11.000000</td>\n",
              "    </tr>\n",
              "    <tr>\n",
              "      <th>mean</th>\n",
              "      <td>9.000000</td>\n",
              "      <td>7.500909</td>\n",
              "    </tr>\n",
              "    <tr>\n",
              "      <th>std</th>\n",
              "      <td>3.316625</td>\n",
              "      <td>2.031657</td>\n",
              "    </tr>\n",
              "    <tr>\n",
              "      <th>min</th>\n",
              "      <td>4.000000</td>\n",
              "      <td>3.100000</td>\n",
              "    </tr>\n",
              "    <tr>\n",
              "      <th>25%</th>\n",
              "      <td>6.500000</td>\n",
              "      <td>6.695000</td>\n",
              "    </tr>\n",
              "    <tr>\n",
              "      <th>50%</th>\n",
              "      <td>9.000000</td>\n",
              "      <td>8.140000</td>\n",
              "    </tr>\n",
              "    <tr>\n",
              "      <th>75%</th>\n",
              "      <td>11.500000</td>\n",
              "      <td>8.950000</td>\n",
              "    </tr>\n",
              "    <tr>\n",
              "      <th>max</th>\n",
              "      <td>14.000000</td>\n",
              "      <td>9.260000</td>\n",
              "    </tr>\n",
              "  </tbody>\n",
              "</table>\n",
              "</div>"
            ],
            "text/plain": [
              "              x1         y1\n",
              "count  11.000000  11.000000\n",
              "mean    9.000000   7.500909\n",
              "std     3.316625   2.031657\n",
              "min     4.000000   3.100000\n",
              "25%     6.500000   6.695000\n",
              "50%     9.000000   8.140000\n",
              "75%    11.500000   8.950000\n",
              "max    14.000000   9.260000"
            ]
          },
          "metadata": {}
        },
        {
          "output_type": "display_data",
          "data": {
            "image/png": "[encoded data removed]",
            "text/plain": [
              "<Figure size 432x288 with 1 Axes>"
            ]
          },
          "metadata": {
            "needs_background": "light"
          }
        }
      ]
    },
    {
      "cell_type": "code",
      "metadata": {
        "id": "U0uAPZBUiEpd"
      },
      "source": [
        ""
      ],
      "execution_count": 21,
      "outputs": []
    },
    {
      "cell_type": "markdown",
      "metadata": {
        "id": "4PqmTaERj6P4"
      },
      "source": [
        "#ANÁLISIS DATASET_B: \n",
        "La gráfica muestra que los datos tienen una tendencia exponencial, aqui el coeficiente de correlación de Pearson R2 no es relevante, porque la relación entre los datos no es lineal, por lo cual el punto que más se ajusta a este comportamiento exponencial es el (16,6), los demás estan fuera de la tendencia. podemos observar tambien que en los valores estadisticos de los dataset (Me,std, pendiente y R2) son los mismos."
      ]
    },
    {
      "cell_type": "markdown",
      "metadata": {
        "id": "2xDd_qtnfpQ3"
      },
      "source": [
        "# 3. DATASET_C"
      ]
    },
    {
      "cell_type": "code",
      "metadata": {
        "colab": {
          "base_uri": "https://localhost:8080/",
          "height": 1000
        },
        "id": "NWI467lDgk6Z",
        "outputId": "98ccb4ee-74c4-492d-f125-8bdd68d654a4"
      },
      "source": [
        "# 3. DATASET C \n",
        "\n",
        "data_C=df[df['dataset']==\"C\"] #solo muestro el dataset  con registro C\n",
        "\n",
        "# grafico  DATASET C\n",
        "data_C['x1']\n",
        "data_C['y1']\n",
        "display(data_C)\n",
        "plt.scatter(data_C['x1'],data_C['y1'], c='red')  # grafica los puntos del dataset_A\n",
        "\n",
        "\n",
        "# Regresión lineal del DATASET_C\n",
        "x=np.array((data_C['x1'])).reshape(-1,1)\n",
        "y=np.array((data_C['y1']))\n",
        "reg = LinearRegression().fit(x,y)\n",
        "reg.score(x, y)\n",
        "display('Valor de R2=', reg.score(x,y))\n",
        "display('Valor de pendiente, M', reg.coef_)\n",
        "x_data=np.arange(0,20,0.1).reshape(-1,1)\n",
        "y_data_C=reg.predict(x_data)\n",
        "\n",
        "# grafica de regresión lineal\n",
        "plt.plot(x_data, y_data_C, c='black')  # grafica la linea de tendencia de la regresión lineal\n",
        "plt.scatter(data_C['x1'],data_C['y1'], c='red')  # grafica los puntos del dataset_A\n",
        "\n",
        "\n",
        "#grafico los puntos a evaluar\n",
        "plt.scatter(16,8, c='yellow',  marker='^')\n",
        "plt.scatter(8,6, c='yellow',  marker='^' )\n",
        "plt.scatter(16,10, c='purple',  marker='^' )\n",
        "plt.scatter(16,6, c='yellow',  marker='^')\n",
        "\n",
        "\n",
        "#obtengo los valores estadisticos de dataset C\n",
        "estadistica_C= data_C. describe()\n",
        "display('estadistica', estadistica_C)\n",
        "\n"
      ],
      "execution_count": 22,
      "outputs": [
        {
          "output_type": "display_data",
          "data": {
            "text/html": [
              "<div>\n",
              "<style scoped>\n",
              "    .dataframe tbody tr th:only-of-type {\n",
              "        vertical-align: middle;\n",
              "    }\n",
              "\n",
              "    .dataframe tbody tr th {\n",
              "        vertical-align: top;\n",
              "    }\n",
              "\n",
              "    .dataframe thead th {\n",
              "        text-align: right;\n",
              "    }\n",
              "</style>\n",
              "<table border=\"1\" class=\"dataframe\">\n",
              "  <thead>\n",
              "    <tr style=\"text-align: right;\">\n",
              "      <th></th>\n",
              "      <th>dataset</th>\n",
              "      <th>x1</th>\n",
              "      <th>y1</th>\n",
              "    </tr>\n",
              "  </thead>\n",
              "  <tbody>\n",
              "    <tr>\n",
              "      <th>22</th>\n",
              "      <td>C</td>\n",
              "      <td>10.0</td>\n",
              "      <td>7.46</td>\n",
              "    </tr>\n",
              "    <tr>\n",
              "      <th>23</th>\n",
              "      <td>C</td>\n",
              "      <td>8.0</td>\n",
              "      <td>6.77</td>\n",
              "    </tr>\n",
              "    <tr>\n",
              "      <th>24</th>\n",
              "      <td>C</td>\n",
              "      <td>13.0</td>\n",
              "      <td>12.74</td>\n",
              "    </tr>\n",
              "    <tr>\n",
              "      <th>25</th>\n",
              "      <td>C</td>\n",
              "      <td>9.0</td>\n",
              "      <td>7.11</td>\n",
              "    </tr>\n",
              "    <tr>\n",
              "      <th>26</th>\n",
              "      <td>C</td>\n",
              "      <td>11.0</td>\n",
              "      <td>7.81</td>\n",
              "    </tr>\n",
              "    <tr>\n",
              "      <th>27</th>\n",
              "      <td>C</td>\n",
              "      <td>14.0</td>\n",
              "      <td>8.84</td>\n",
              "    </tr>\n",
              "    <tr>\n",
              "      <th>28</th>\n",
              "      <td>C</td>\n",
              "      <td>6.0</td>\n",
              "      <td>6.08</td>\n",
              "    </tr>\n",
              "    <tr>\n",
              "      <th>29</th>\n",
              "      <td>C</td>\n",
              "      <td>4.0</td>\n",
              "      <td>5.39</td>\n",
              "    </tr>\n",
              "    <tr>\n",
              "      <th>30</th>\n",
              "      <td>C</td>\n",
              "      <td>12.0</td>\n",
              "      <td>8.15</td>\n",
              "    </tr>\n",
              "    <tr>\n",
              "      <th>31</th>\n",
              "      <td>C</td>\n",
              "      <td>7.0</td>\n",
              "      <td>6.42</td>\n",
              "    </tr>\n",
              "    <tr>\n",
              "      <th>32</th>\n",
              "      <td>C</td>\n",
              "      <td>5.0</td>\n",
              "      <td>5.73</td>\n",
              "    </tr>\n",
              "  </tbody>\n",
              "</table>\n",
              "</div>"
            ],
            "text/plain": [
              "   dataset    x1     y1\n",
              "22       C  10.0   7.46\n",
              "23       C   8.0   6.77\n",
              "24       C  13.0  12.74\n",
              "25       C   9.0   7.11\n",
              "26       C  11.0   7.81\n",
              "27       C  14.0   8.84\n",
              "28       C   6.0   6.08\n",
              "29       C   4.0   5.39\n",
              "30       C  12.0   8.15\n",
              "31       C   7.0   6.42\n",
              "32       C   5.0   5.73"
            ]
          },
          "metadata": {}
        },
        {
          "output_type": "display_data",
          "data": {
            "application/vnd.google.colaboratory.intrinsic+json": {
              "type": "string"
            },
            "text/plain": [
              "'Valor de R2='"
            ]
          },
          "metadata": {}
        },
        {
          "output_type": "display_data",
          "data": {
            "text/plain": [
              "0.6663240410665592"
            ]
          },
          "metadata": {}
        },
        {
          "output_type": "display_data",
          "data": {
            "application/vnd.google.colaboratory.intrinsic+json": {
              "type": "string"
            },
            "text/plain": [
              "'Valor de pendiente, M'"
            ]
          },
          "metadata": {}
        },
        {
          "output_type": "display_data",
          "data": {
            "text/plain": [
              "array([0.49972727])"
            ]
          },
          "metadata": {}
        },
        {
          "output_type": "display_data",
          "data": {
            "application/vnd.google.colaboratory.intrinsic+json": {
              "type": "string"
            },
            "text/plain": [
              "'estadistica'"
            ]
          },
          "metadata": {}
        },
        {
          "output_type": "display_data",
          "data": {
            "text/html": [
              "<div>\n",
              "<style scoped>\n",
              "    .dataframe tbody tr th:only-of-type {\n",
              "        vertical-align: middle;\n",
              "    }\n",
              "\n",
              "    .dataframe tbody tr th {\n",
              "        vertical-align: top;\n",
              "    }\n",
              "\n",
              "    .dataframe thead th {\n",
              "        text-align: right;\n",
              "    }\n",
              "</style>\n",
              "<table border=\"1\" class=\"dataframe\">\n",
              "  <thead>\n",
              "    <tr style=\"text-align: right;\">\n",
              "      <th></th>\n",
              "      <th>x1</th>\n",
              "      <th>y1</th>\n",
              "    </tr>\n",
              "  </thead>\n",
              "  <tbody>\n",
              "    <tr>\n",
              "      <th>count</th>\n",
              "      <td>11.000000</td>\n",
              "      <td>11.000000</td>\n",
              "    </tr>\n",
              "    <tr>\n",
              "      <th>mean</th>\n",
              "      <td>9.000000</td>\n",
              "      <td>7.500000</td>\n",
              "    </tr>\n",
              "    <tr>\n",
              "      <th>std</th>\n",
              "      <td>3.316625</td>\n",
              "      <td>2.030424</td>\n",
              "    </tr>\n",
              "    <tr>\n",
              "      <th>min</th>\n",
              "      <td>4.000000</td>\n",
              "      <td>5.390000</td>\n",
              "    </tr>\n",
              "    <tr>\n",
              "      <th>25%</th>\n",
              "      <td>6.500000</td>\n",
              "      <td>6.250000</td>\n",
              "    </tr>\n",
              "    <tr>\n",
              "      <th>50%</th>\n",
              "      <td>9.000000</td>\n",
              "      <td>7.110000</td>\n",
              "    </tr>\n",
              "    <tr>\n",
              "      <th>75%</th>\n",
              "      <td>11.500000</td>\n",
              "      <td>7.980000</td>\n",
              "    </tr>\n",
              "    <tr>\n",
              "      <th>max</th>\n",
              "      <td>14.000000</td>\n",
              "      <td>12.740000</td>\n",
              "    </tr>\n",
              "  </tbody>\n",
              "</table>\n",
              "</div>"
            ],
            "text/plain": [
              "              x1         y1\n",
              "count  11.000000  11.000000\n",
              "mean    9.000000   7.500000\n",
              "std     3.316625   2.030424\n",
              "min     4.000000   5.390000\n",
              "25%     6.500000   6.250000\n",
              "50%     9.000000   7.110000\n",
              "75%    11.500000   7.980000\n",
              "max    14.000000  12.740000"
            ]
          },
          "metadata": {}
        },
        {
          "output_type": "display_data",
          "data": {
            "image/png": "[encoded data removed]",
            "text/plain": [
              "<Figure size 432x288 with 1 Axes>"
            ]
          },
          "metadata": {
            "needs_background": "light"
          }
        }
      ]
    },
    {
      "cell_type": "markdown",
      "metadata": {
        "id": "-1iA5W_-my_b"
      },
      "source": [
        "#ANÁLISIS DATASET_3:\n",
        "\n",
        "En esta gráfica la tendencia de los puntos es una relación lineal, que se ve levemente afectada  por una pareja de puntos del dataset_C que se encuentra ubicada en el extremo de la gráfica (13;12,74), lo que  influye lo suficiente como para alterar la línea de regresión hacia arriba y disminuir el coeficiente de correlación R2 de 1 a 0.66. Para este dataset, el dato que pertenece a esa grafica es el (16, 10), ya que hace disminuir ligeramnete la inclinación de la linea de regresión, ajustandose a esta y permitiendo que el valor de R2, se acerque mas a 1.\n"
      ]
    },
    {
      "cell_type": "markdown",
      "metadata": {
        "id": "k_8uBB-Zguuf"
      },
      "source": [
        "# 4. DATASET_D"
      ]
    },
    {
      "cell_type": "code",
      "metadata": {
        "colab": {
          "base_uri": "https://localhost:8080/",
          "height": 983
        },
        "id": "D7dQCmvog6Ia",
        "outputId": "a763f8fc-8221-4ff2-d75c-2bfdd4a88dde"
      },
      "source": [
        "# 3. DATASET D\n",
        "\n",
        "data_D=df[df['dataset']==\"D\"] #solo muestro el dataset  con registro D\n",
        "\n",
        "# grafico  DATASET D\n",
        "data_D['x1']\n",
        "data_D['y1']\n",
        "display(data_D)\n",
        "\n",
        "# Regresión lineal del DATASET_D\n",
        "x=np.array((data_D['x1'])).reshape(-1,1)\n",
        "y=np.array((data_D['y1']))\n",
        "reg = LinearRegression().fit(x,y)\n",
        "reg.score(x, y)\n",
        "display('Valor de R2=', reg.score(x,y))\n",
        "display('Valor de pendiente, M', reg.coef_)\n",
        "x_data=np.arange(0,20,0.1).reshape(-1,1)\n",
        "y_data_D=reg.predict(x_data)\n",
        "\n",
        "# grafica de regresión lineal\n",
        "plt.plot(x_data, y_data_D, c='black')  # grafica la linea de tendencia de la regresión lineal\n",
        "plt.scatter(data_D['x1'],data_D['y1'], c='red')  # grafica los puntos del dataset_D\n",
        "\n",
        "#grafico los puntos a evaluar\n",
        "plt.scatter(16,8, c='yellow',  marker='^')\n",
        "plt.scatter(8,6, c='yellow',  marker='^' )\n",
        "plt.scatter(16,10, c='purple',  marker='^' )\n",
        "plt.scatter(16,6, c='yellow',  marker='^')\n",
        "\n",
        "\n",
        "#obtengo los valores estadisticos de dataset D\n",
        "estadistica_D= data_D. describe()\n",
        "estadistica_D\n"
      ],
      "execution_count": 23,
      "outputs": [
        {
          "output_type": "display_data",
          "data": {
            "text/html": [
              "<div>\n",
              "<style scoped>\n",
              "    .dataframe tbody tr th:only-of-type {\n",
              "        vertical-align: middle;\n",
              "    }\n",
              "\n",
              "    .dataframe tbody tr th {\n",
              "        vertical-align: top;\n",
              "    }\n",
              "\n",
              "    .dataframe thead th {\n",
              "        text-align: right;\n",
              "    }\n",
              "</style>\n",
              "<table border=\"1\" class=\"dataframe\">\n",
              "  <thead>\n",
              "    <tr style=\"text-align: right;\">\n",
              "      <th></th>\n",
              "      <th>dataset</th>\n",
              "      <th>x1</th>\n",
              "      <th>y1</th>\n",
              "    </tr>\n",
              "  </thead>\n",
              "  <tbody>\n",
              "    <tr>\n",
              "      <th>33</th>\n",
              "      <td>D</td>\n",
              "      <td>8.0</td>\n",
              "      <td>6.58</td>\n",
              "    </tr>\n",
              "    <tr>\n",
              "      <th>34</th>\n",
              "      <td>D</td>\n",
              "      <td>8.0</td>\n",
              "      <td>5.76</td>\n",
              "    </tr>\n",
              "    <tr>\n",
              "      <th>35</th>\n",
              "      <td>D</td>\n",
              "      <td>8.0</td>\n",
              "      <td>7.71</td>\n",
              "    </tr>\n",
              "    <tr>\n",
              "      <th>36</th>\n",
              "      <td>D</td>\n",
              "      <td>8.0</td>\n",
              "      <td>8.84</td>\n",
              "    </tr>\n",
              "    <tr>\n",
              "      <th>37</th>\n",
              "      <td>D</td>\n",
              "      <td>8.0</td>\n",
              "      <td>8.47</td>\n",
              "    </tr>\n",
              "    <tr>\n",
              "      <th>38</th>\n",
              "      <td>D</td>\n",
              "      <td>8.0</td>\n",
              "      <td>7.04</td>\n",
              "    </tr>\n",
              "    <tr>\n",
              "      <th>39</th>\n",
              "      <td>D</td>\n",
              "      <td>8.0</td>\n",
              "      <td>5.25</td>\n",
              "    </tr>\n",
              "    <tr>\n",
              "      <th>40</th>\n",
              "      <td>D</td>\n",
              "      <td>19.0</td>\n",
              "      <td>12.50</td>\n",
              "    </tr>\n",
              "    <tr>\n",
              "      <th>41</th>\n",
              "      <td>D</td>\n",
              "      <td>8.0</td>\n",
              "      <td>5.56</td>\n",
              "    </tr>\n",
              "    <tr>\n",
              "      <th>42</th>\n",
              "      <td>D</td>\n",
              "      <td>8.0</td>\n",
              "      <td>7.91</td>\n",
              "    </tr>\n",
              "    <tr>\n",
              "      <th>43</th>\n",
              "      <td>D</td>\n",
              "      <td>8.0</td>\n",
              "      <td>6.89</td>\n",
              "    </tr>\n",
              "  </tbody>\n",
              "</table>\n",
              "</div>"
            ],
            "text/plain": [
              "   dataset    x1     y1\n",
              "33       D   8.0   6.58\n",
              "34       D   8.0   5.76\n",
              "35       D   8.0   7.71\n",
              "36       D   8.0   8.84\n",
              "37       D   8.0   8.47\n",
              "38       D   8.0   7.04\n",
              "39       D   8.0   5.25\n",
              "40       D  19.0  12.50\n",
              "41       D   8.0   5.56\n",
              "42       D   8.0   7.91\n",
              "43       D   8.0   6.89"
            ]
          },
          "metadata": {}
        },
        {
          "output_type": "display_data",
          "data": {
            "application/vnd.google.colaboratory.intrinsic+json": {
              "type": "string"
            },
            "text/plain": [
              "'Valor de R2='"
            ]
          },
          "metadata": {}
        },
        {
          "output_type": "display_data",
          "data": {
            "text/plain": [
              "0.6667072568984653"
            ]
          },
          "metadata": {}
        },
        {
          "output_type": "display_data",
          "data": {
            "application/vnd.google.colaboratory.intrinsic+json": {
              "type": "string"
            },
            "text/plain": [
              "'Valor de pendiente, M'"
            ]
          },
          "metadata": {}
        },
        {
          "output_type": "display_data",
          "data": {
            "text/plain": [
              "array([0.49990909])"
            ]
          },
          "metadata": {}
        },
        {
          "output_type": "execute_result",
          "data": {
            "text/html": [
              "<div>\n",
              "<style scoped>\n",
              "    .dataframe tbody tr th:only-of-type {\n",
              "        vertical-align: middle;\n",
              "    }\n",
              "\n",
              "    .dataframe tbody tr th {\n",
              "        vertical-align: top;\n",
              "    }\n",
              "\n",
              "    .dataframe thead th {\n",
              "        text-align: right;\n",
              "    }\n",
              "</style>\n",
              "<table border=\"1\" class=\"dataframe\">\n",
              "  <thead>\n",
              "    <tr style=\"text-align: right;\">\n",
              "      <th></th>\n",
              "      <th>x1</th>\n",
              "      <th>y1</th>\n",
              "    </tr>\n",
              "  </thead>\n",
              "  <tbody>\n",
              "    <tr>\n",
              "      <th>count</th>\n",
              "      <td>11.000000</td>\n",
              "      <td>11.000000</td>\n",
              "    </tr>\n",
              "    <tr>\n",
              "      <th>mean</th>\n",
              "      <td>9.000000</td>\n",
              "      <td>7.500909</td>\n",
              "    </tr>\n",
              "    <tr>\n",
              "      <th>std</th>\n",
              "      <td>3.316625</td>\n",
              "      <td>2.030579</td>\n",
              "    </tr>\n",
              "    <tr>\n",
              "      <th>min</th>\n",
              "      <td>8.000000</td>\n",
              "      <td>5.250000</td>\n",
              "    </tr>\n",
              "    <tr>\n",
              "      <th>25%</th>\n",
              "      <td>8.000000</td>\n",
              "      <td>6.170000</td>\n",
              "    </tr>\n",
              "    <tr>\n",
              "      <th>50%</th>\n",
              "      <td>8.000000</td>\n",
              "      <td>7.040000</td>\n",
              "    </tr>\n",
              "    <tr>\n",
              "      <th>75%</th>\n",
              "      <td>8.000000</td>\n",
              "      <td>8.190000</td>\n",
              "    </tr>\n",
              "    <tr>\n",
              "      <th>max</th>\n",
              "      <td>19.000000</td>\n",
              "      <td>12.500000</td>\n",
              "    </tr>\n",
              "  </tbody>\n",
              "</table>\n",
              "</div>"
            ],
            "text/plain": [
              "              x1         y1\n",
              "count  11.000000  11.000000\n",
              "mean    9.000000   7.500909\n",
              "std     3.316625   2.030579\n",
              "min     8.000000   5.250000\n",
              "25%     8.000000   6.170000\n",
              "50%     8.000000   7.040000\n",
              "75%     8.000000   8.190000\n",
              "max    19.000000  12.500000"
            ]
          },
          "metadata": {},
          "execution_count": 23
        },
        {
          "output_type": "display_data",
          "data": {
            "image/png": "[encoded data removed]",
            "text/plain": [
              "<Figure size 432x288 with 1 Axes>"
            ]
          },
          "metadata": {
            "needs_background": "light"
          }
        }
      ]
    },
    {
      "cell_type": "markdown",
      "metadata": {
        "id": "0HmRdA27dhSI"
      },
      "source": [
        "#ANÁLISIS DATASET_4:\n",
        "En esta gráfica se observa que un valor atípico es suficiente para producir un coeficiente de correlación alto (R2=0,66), incluso cuando la relación entre las dos variables no es lineal, por lo cual hay dos puntos que se pueden ajustar a esta grafica (8,6) y (16,10), siendo el punto (8,6), el que mas se aproxima a la linea de ajuste"
      ]
    },
    {
      "cell_type": "markdown",
      "metadata": {
        "id": "2G3kMjRqgq9P"
      },
      "source": [
        "#CONCLUSIÓN PRÁCTICO No. 1\n",
        "El cuarteto de Ansombe, refleja una situación muy importante en el manejo de los datos y análisis de resultados, porque cuatro conjuntos de datos que tienen las mismas propiedades estadísticas, tienen representaciónes gráficas diferentes. ESte aspecto nos hace comprender algo que en algunas ocasiones puede obiarse, y es que no solo se trata de analizar los valores numéricos de un dataset, si no que tambien es necesario graficarlos, observar la tendencia, información que nos puede suministrar y comprender la naturaleza de los datos con los que estamos trabajando."
      ]
    },
    {
      "cell_type": "code",
      "metadata": {
        "colab": {
          "base_uri": "https://localhost:8080/",
          "height": 282
        },
        "id": "m5ii-Ly1v3fx",
        "outputId": "92474f28-5f85-4098-a83a-3e2b4551de02"
      },
      "source": [
        "plt.scatter(data_A['x1'],data_A['y1'], c='green')\n",
        "plt.plot(x_data, y_data_A, c='black') \n",
        "plt.scatter(data_B['x1'],data_B['y1'], c='green')\n",
        "plt.plot(x_data, y_data_B, c='black') \n",
        "plt.scatter(data_C['x1'],data_C['y1'], c='blue')\n",
        "plt.plot(x_data, y_data_C, c='black') \n",
        "plt.scatter(data_D['x1'],data_D['y1'], c='yellow')\n",
        "plt.plot(x_data, y_data_D, c='black') "
      ],
      "execution_count": 28,
      "outputs": [
        {
          "output_type": "execute_result",
          "data": {
            "text/plain": [
              "[<matplotlib.lines.Line2D at 0x7f76a947e390>]"
            ]
          },
          "metadata": {},
          "execution_count": 28
        },
        {
          "output_type": "display_data",
          "data": {
            "image/png": "[encoded data removed]",
            "text/plain": [
              "<Figure size 432x288 with 1 Axes>"
            ]
          },
          "metadata": {
            "needs_background": "light"
          }
        }
      ]
    }
  ]
}